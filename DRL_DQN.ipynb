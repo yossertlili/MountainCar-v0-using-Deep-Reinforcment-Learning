{
 "cells": [
  {
   "cell_type": "code",
   "execution_count": null,
   "metadata": {
    "id": "HvDbqtjFsfoI"
   },
   "outputs": [],
   "source": [
    "import tensorflow as tf\n",
    "import numpy as np\n",
    "import matplotlib.pyplot as plt\n",
    "import pandas as pd\n",
    "\n",
    "from tensorflow.python.keras import Sequential\n",
    "from tensorflow.python.keras.layers import Dense"
   ]
  },
  {
   "cell_type": "markdown",
   "metadata": {
    "id": "l8S_d5xsfH-2"
   },
   "source": [
    "## I . Discover the environment"
   ]
  },
  {
   "cell_type": "code",
   "execution_count": null,
   "metadata": {
    "id": "f4kAL4s2PIX_"
   },
   "outputs": [],
   "source": [
    "import gym"
   ]
  },
  {
   "cell_type": "code",
   "execution_count": null,
   "metadata": {
    "colab": {
     "base_uri": "https://localhost:8080/"
    },
    "id": "wKc4XJROeirB",
    "outputId": "970a88ef-e22d-4d52-f4ab-e94d9d882427"
   },
   "outputs": [
    {
     "name": "stdout",
     "output_type": "stream",
     "text": [
      "State shape:  (2,)\n",
      "Number of actions:  3\n"
     ]
    }
   ],
   "source": [
    "env = gym.make('MountainCar-v0')\n",
    "env.seed(0)\n",
    "print('State shape: ', env.observation_space.shape)\n",
    "print('Number of actions: ', env.action_space.n)"
   ]
  },
  {
   "cell_type": "markdown",
   "metadata": {
    "id": "zFR-r28nfSuI"
   },
   "source": [
    "## II . Model"
   ]
  },
  {
   "cell_type": "code",
   "execution_count": null,
   "metadata": {
    "id": "tsBsbX27suMz"
   },
   "outputs": [],
   "source": [
    "def DeepQNetwork(input, actions):\n",
    "    \"\"\"Actor (Policy) Model.\"\"\"\n",
    "    \"\"\"Initialize parameters and build model.\n",
    "        Params\n",
    "        ======\n",
    "            Input (int): Dimension of states\n",
    "            actions (int): Dimension of actions\n",
    "        \"\"\"\n",
    "    model = Sequential()\n",
    "    model.add(Dense(64, input_dim=input, activation='relu'))\n",
    "    model.add(Dense(128, activation='relu'))\n",
    "    model.add(Dense(actions, activation=None))\n",
    "\n",
    "    model.compile(optimizer='adam', loss='mse')\n",
    "    return model"
   ]
  },
  {
   "cell_type": "markdown",
   "metadata": {
    "id": "74dcYlByhNuy"
   },
   "source": [
    "## III . Agent"
   ]
  },
  {
   "cell_type": "code",
   "execution_count": null,
   "metadata": {
    "id": "oR1hesfupcAI"
   },
   "outputs": [],
   "source": [
    "class Agent:\n",
    "    def __init__(self,actions,input,discount_factor,epsilon):\n",
    "      \"\"\"Initialize an Agent object.\n",
    "        \n",
    "        Params\n",
    "        ======\n",
    "            actions (int): dimension of actions\n",
    "            input (int): dimension of actions\n",
    "            discount_factor (int): The discount factor\n",
    "            epsilon (int): Epsilon value\n",
    "\n",
    "\n",
    "        \"\"\"\n",
    "      self.action_space = [i for i in range(actions)]\n",
    "      self.discount_factor = discount_factor\n",
    "      self.epsilon = epsilon\n",
    "\n",
    "      # Q-Network\n",
    "      self.q_net = DeepQNetwork(input,actions)\n",
    "      self.q_target_net = DeepQNetwork(input,actions)\n",
    "\n",
    "      # Initialize time step (for updating every UPDATE_EVERY steps)\n",
    "      self.t_step = 0\n",
    "\n",
    "      # Replay memory\n",
    "      self.buffer = ReplayBuffer(1000000, input)\n",
    "        \n",
    "\n",
    "    def step(self, state, action, reward, new_state, done):\n",
    "        # Save experience in replay memory\n",
    "        self.buffer.add(state, action, reward, new_state, done)\n",
    "\n",
    "    def act(self, state):\n",
    "        \"\"\"Returns actions for given state as per current policy.\n",
    "        \n",
    "        Params\n",
    "        ======\n",
    "            state (array_like): current state\n",
    "        \"\"\"\n",
    "        if np.random.random() < self.epsilon:\n",
    "            action = np.random.choice(self.action_space)\n",
    "        else:\n",
    "            state = np.array([state])\n",
    "            actions = self.q_net(state)\n",
    "            action = tf.math.argmax(actions, axis=1).numpy()[0]\n",
    "\n",
    "        return action\n",
    "\n",
    "    def update(self):\n",
    "        # Update value parameters using given batch of experience \n",
    "        if self.buffer.current_size >= 64:\n",
    "          self.q_target_net.set_weights(self.q_net.get_weights())\n",
    "\n",
    "          state_batch, action_batch, reward_batch, new_state_batch, done_batch = self.buffer.sample()\n",
    "\n",
    "          q_predicted = self.q_net(state_batch)\n",
    "          q_next = self.q_target_net(new_state_batch)\n",
    "          q_max_next = tf.math.reduce_max(q_next, axis=1, keepdims=True).numpy()\n",
    "          q_target = np.copy(q_predicted)\n",
    "          \n",
    "          for i in range(64):\n",
    "              target_q_val = reward_batch[i]\n",
    "              if not done_batch[i]:\n",
    "                  target_q_val = target_q_val +  self.discount_factor * q_max_next[i]\n",
    "              q_target[i, action_batch[i]] = target_q_val\n",
    "          self.q_net.train_on_batch(state_batch, q_target)\n",
    "          if self.epsilon > 0.01:\n",
    "            self.epsilon = self.epsilon - 0.001\n",
    "          else:\n",
    "            self.epsilon = 0.01\n",
    "          \n",
    "          self.t_step = self.t_step + 1\n",
    "\n",
    "    "
   ]
  },
  {
   "cell_type": "markdown",
   "metadata": {
    "id": "L4BTcqBnnC3r"
   },
   "source": [
    "## IV . Reply Buffer"
   ]
  },
  {
   "cell_type": "code",
   "execution_count": null,
   "metadata": {
    "id": "RraQlYdFp-eQ"
   },
   "outputs": [],
   "source": [
    "class ReplayBuffer:\n",
    "    def __init__(self, size, input_shape):\n",
    "        \"\"\"Initialize a ReplayBuffer object.\n",
    "        Params\n",
    "        ======\n",
    "            size (int): dimension of actions\n",
    "            size (int): maximum size of buffer\n",
    "            input_shape (int): Dimension of states\n",
    "        \"\"\"\n",
    "\n",
    "        self.size = size\n",
    "        # current length of the buffer\n",
    "        self.current_size = 0\n",
    "\n",
    "        self.state = np.zeros((self.size, input_shape), dtype=np.float32)\n",
    "        self.action = np.zeros(self.size, dtype=np.int32)\n",
    "        self.reward = np.zeros(self.size, dtype=np.float32)\n",
    "        self.next_state = np.zeros((self.size, input_shape), dtype=np.float32)\n",
    "        self.done = np.zeros(self.size, dtype=np.bool_)\n",
    "\n",
    "    def add(self, state, action, reward, new_state, done):\n",
    "        \"\"\"Add a new experience to memory.\"\"\"\n",
    "        i = self.current_size + 1 \n",
    "        self.state[i] = state\n",
    "        self.action[i] = action\n",
    "        self.reward[i] = reward\n",
    "        self.next_state[i] = new_state\n",
    "        self.done[i] = done\n",
    "        self.current_size = self.current_size + 1\n",
    "\n",
    "    def sample(self):\n",
    "        \"\"\"Randomly sample a batch of experiences from memory.\"\"\"\n",
    "        max_buffer = min(self.current_size, self.size)\n",
    "        batch = np.random.choice(max_buffer, 64, replace=False)\n",
    "        state_batch = self.state[batch]\n",
    "        action_batch = self.action[batch]\n",
    "        reward_batch = self.reward[batch]\n",
    "        new_state_batch = self.next_state[batch]\n",
    "        done_batch = self.done[batch]\n",
    "\n",
    "        return state_batch, action_batch, reward_batch, new_state_batch, done_batch"
   ]
  },
  {
   "cell_type": "markdown",
   "metadata": {
    "id": "zuaHeYSxn_-C"
   },
   "source": [
    "## IV . Training"
   ]
  },
  {
   "cell_type": "code",
   "execution_count": null,
   "metadata": {
    "id": "y3UEtzLOqKth"
   },
   "outputs": [],
   "source": [
    "env = gym.make(\"MountainCar-v0\")\n",
    "dqn_agent = Agent(actions=3,input=2,discount_factor=0.99,epsilon=1.0)"
   ]
  },
  {
   "cell_type": "code",
   "execution_count": null,
   "metadata": {
    "id": "tKP7hfe5mxls"
   },
   "outputs": [],
   "source": [
    "class train_agent:\n",
    "  def __init__(self,goal,env):\n",
    "    \"\"\"Train the agent.\n",
    "        Params\n",
    "        ======\n",
    "            env: The openAIgym environment\n",
    "            goal (float): The wanted average score\n",
    "        \"\"\"\n",
    "    self.goal = goal\n",
    "    self.env = env\n",
    "    self.scores = []\n",
    "    self.avg_scores = []\n",
    "\n",
    "  def train(self):\n",
    "      ep = 0\n",
    "      avg = 0\n",
    "      # Train the agent while it didn't reach the goal\n",
    "      while avg <= self.goal:\n",
    "          done = False\n",
    "          score = 0.0\n",
    "          state = self.env.reset()\n",
    "          while not done:\n",
    "              action = dqn_agent.act(state)\n",
    "              new_state, reward, done, _ = self.env.step(action)\n",
    "              score = score + reward\n",
    "              dqn_agent.step(state, action, reward, new_state, done)\n",
    "              state = new_state\n",
    "              dqn_agent.update()\n",
    "          self.scores.append(score)\n",
    "          avg_score = np.mean(self.scores[-100:])\n",
    "          self.avg_scores.append(avg_score)\n",
    "          print(\"Episode \"+ str(ep)+  \"\\t score : \" + str(score) + \"\\t Eps : \" + str(dqn_agent.epsilon) + \"\\t Average : \" + str(avg_score) )\n",
    "          avg = avg_score\n",
    "          ep = ep + 1\n",
    "          dqn_agent.q_net.save(f'model.h5')\n",
    "    \n",
    "  def plotting(self):\n",
    "      # Plot the results ( score and average score )\n",
    "        fig = plt.figure()\n",
    "        ax = fig.add_subplot(111)\n",
    "        plt.plot(np.arange(len(self.scores)), self.scores)\n",
    "        plt.ylabel('Score')\n",
    "        plt.xlabel('Episodes')\n",
    "        plt.show()\n",
    "\n",
    "        fig = plt.figure()\n",
    "        ax = fig.add_subplot(111)\n",
    "        plt.plot(np.arange(len(self.avg_scores)), self.avg_scores)\n",
    "        plt.ylabel('Average Score')\n",
    "        plt.xlabel('Episodes')\n",
    "        plt.show()\n",
    "\n",
    "\n",
    "\n",
    "        "
   ]
  },
  {
   "cell_type": "code",
   "execution_count": null,
   "metadata": {
    "id": "FMGZ0NHmrfFz"
   },
   "outputs": [],
   "source": [
    "trained_agent = train_agent(100,env)\n",
    "trained_agent.train()"
   ]
  },
  {
   "cell_type": "code",
   "execution_count": null,
   "metadata": {
    "colab": {
     "base_uri": "https://localhost:8080/",
     "height": 558
    },
    "id": "gKPdG-_HKm8u",
    "outputId": "3ca4c218-42b0-45af-bcd7-fe0a2109a5b7"
   },
   "outputs": [
    {
     "data": {
      "image/png": "[encoded data removed]",
      "text/plain": [
       "<Figure size 432x288 with 1 Axes>"
      ]
     },
     "metadata": {
      "needs_background": "light"
     },
     "output_type": "display_data"
    },
    {
     "data": {
      "image/png": "[encoded data removed]",
      "text/plain": [
       "<Figure size 432x288 with 1 Axes>"
      ]
     },
     "metadata": {
      "needs_background": "light"
     },
     "output_type": "display_data"
    },
    {
     "data": {
      "text/plain": [
       "<Figure size 432x288 with 0 Axes>"
      ]
     },
     "metadata": {},
     "output_type": "display_data"
    }
   ],
   "source": [
    "trained_agent.plotting()"
   ]
  },
  {
   "cell_type": "code",
   "execution_count": null,
   "metadata": {
    "id": "qzwlZK6y1abq"
   },
   "outputs": [],
   "source": [
    "def test(env,num_episodes):\n",
    "        dqn_agent.q_net.load_weights('model.h5')\n",
    "        scores, avg_scores = [], []\n",
    "        score = 0.0\n",
    "        for i in range(num_episodes):\n",
    "            state = env.reset()\n",
    "            done = False\n",
    "            episode_score = 0.0\n",
    "            while not done:\n",
    "                env.render()\n",
    "                action = dqn_agent.act(state)\n",
    "                new_state, reward, done, _ = env.step(action)\n",
    "                episode_score = episode_score + reward\n",
    "                state = new_state\n",
    "            print('a')\n",
    "            score = score + episode_score\n",
    "            scores.append(episode_score)\n",
    "            episodes.append(i)\n",
    "            avg_score = np.mean(scores[-100:])\n",
    "            avg_scores.append(avg_score)\n",
    "\n",
    "         #fig = plt.figure()\n",
    "        ax = fig.add_subplot(111)\n",
    "        plt.plot(np.arange(len(scores)), scores)\n",
    "        plt.ylabel('Score')\n",
    "        plt.xlabel('Episode #')\n",
    "        plt.show()\n",
    "\n",
    "        fig = plt.figure()\n",
    "        ax = fig.add_subplot(111)\n",
    "        plt.plot(np.arange(len(avg_scores)), avg_scores)\n",
    "        plt.ylabel('Score')\n",
    "        plt.xlabel('Episode #')\n",
    "        plt.show()\n",
    "        env.close()"
   ]
  },
  {
   "cell_type": "code",
   "execution_count": null,
   "metadata": {
    "id": "ZSj6wv6R6roY"
   },
   "outputs": [],
   "source": [
    "test(env, 1200)"
   ]
  }
 ],
 "metadata": {
  "accelerator": "GPU",
  "colab": {
   "collapsed_sections": [],
   "name": "DRL-DQN.ipynb",
   "provenance": []
  },
  "kernelspec": {
   "display_name": "Python 3 (ipykernel)",
   "language": "python",
   "name": "python3"
  },
  "language_info": {
   "codemirror_mode": {
    "name": "ipython",
    "version": 3
   },
   "file_extension": ".py",
   "mimetype": "text/x-python",
   "name": "python",
   "nbconvert_exporter": "python",
   "pygments_lexer": "ipython3",
   "version": "3.8.10"
  }
 },
 "nbformat": 4,
 "nbformat_minor": 1
}
